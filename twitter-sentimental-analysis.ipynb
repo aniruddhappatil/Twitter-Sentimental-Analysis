{
 "cells": [
  {
   "cell_type": "markdown",
   "id": "1d67f773",
   "metadata": {
    "papermill": {
     "duration": 0.006819,
     "end_time": "2024-03-12T09:21:59.032430",
     "exception": false,
     "start_time": "2024-03-12T09:21:59.025611",
     "status": "completed"
    },
    "tags": []
   },
   "source": [
    "# Importing the Libraries"
   ]
  },
  {
   "cell_type": "code",
   "execution_count": 1,
   "id": "77f25f6e",
   "metadata": {
    "_cell_guid": "b1076dfc-b9ad-4769-8c92-a6c4dae69d19",
    "_uuid": "8f2839f25d086af736a60e9eeb907d3b93b6e0e5",
    "execution": {
     "iopub.execute_input": "2024-03-12T09:21:59.046882Z",
     "iopub.status.busy": "2024-03-12T09:21:59.046556Z",
     "iopub.status.idle": "2024-03-12T09:22:16.632657Z",
     "shell.execute_reply": "2024-03-12T09:22:16.631178Z"
    },
    "papermill": {
     "duration": 17.596017,
     "end_time": "2024-03-12T09:22:16.634745",
     "exception": false,
     "start_time": "2024-03-12T09:21:59.038728",
     "status": "completed"
    },
    "tags": []
   },
   "outputs": [
    {
     "name": "stderr",
     "output_type": "stream",
     "text": [
      "2024-03-12 09:22:03.938908: E external/local_xla/xla/stream_executor/cuda/cuda_dnn.cc:9261] Unable to register cuDNN factory: Attempting to register factory for plugin cuDNN when one has already been registered\n",
      "2024-03-12 09:22:03.939043: E external/local_xla/xla/stream_executor/cuda/cuda_fft.cc:607] Unable to register cuFFT factory: Attempting to register factory for plugin cuFFT when one has already been registered\n",
      "2024-03-12 09:22:04.124724: E external/local_xla/xla/stream_executor/cuda/cuda_blas.cc:1515] Unable to register cuBLAS factory: Attempting to register factory for plugin cuBLAS when one has already been registered\n"
     ]
    },
    {
     "name": "stdout",
     "output_type": "stream",
     "text": [
      "/kaggle/input/twitter-entity-sentiment-analysis/twitter_validation.csv\n",
      "/kaggle/input/twitter-entity-sentiment-analysis/twitter_training.csv\n"
     ]
    }
   ],
   "source": [
    "import numpy as np\n",
    "import pandas as pd\n",
    "import seaborn as sns\n",
    "import matplotlib.pyplot as plt\n",
    "import re\n",
    "from sklearn.preprocessing import LabelEncoder \n",
    "from tensorflow.keras import layers\n",
    "import tensorflow_datasets as tfds\n",
    "import tensorflow as tf\n",
    "import warnings\n",
    "warnings.filterwarnings(\"ignore\")\n",
    "\n",
    "import os\n",
    "for dirname, _, filenames in os.walk('/kaggle/input'):\n",
    "    for filename in filenames:\n",
    "        print(os.path.join(dirname, filename))\n",
    "        \n",
    "pd.set_option(\"display.max_rows\",100)\n",
    "pd.set_option(\"display.max_columns\",100)\n",
    "pd.set_option(\"display.width\",None)"
   ]
  },
  {
   "cell_type": "markdown",
   "id": "7804eb22",
   "metadata": {
    "papermill": {
     "duration": 0.006503,
     "end_time": "2024-03-12T09:22:16.648074",
     "exception": false,
     "start_time": "2024-03-12T09:22:16.641571",
     "status": "completed"
    },
    "tags": []
   },
   "source": [
    "# Reading the Files into Dataframe"
   ]
  },
  {
   "cell_type": "code",
   "execution_count": 2,
   "id": "83e4b5f0",
   "metadata": {
    "execution": {
     "iopub.execute_input": "2024-03-12T09:22:16.663131Z",
     "iopub.status.busy": "2024-03-12T09:22:16.662540Z",
     "iopub.status.idle": "2024-03-12T09:22:16.967927Z",
     "shell.execute_reply": "2024-03-12T09:22:16.966809Z"
    },
    "papermill": {
     "duration": 0.315586,
     "end_time": "2024-03-12T09:22:16.970289",
     "exception": false,
     "start_time": "2024-03-12T09:22:16.654703",
     "status": "completed"
    },
    "tags": []
   },
   "outputs": [],
   "source": [
    "train = pd.read_csv(\"/kaggle/input/twitter-entity-sentiment-analysis/twitter_training.csv\", header=None, names=[\"id\",\"entity\",\"sentiment\",\"tweet\"])\n",
    "test = pd.read_csv(\"/kaggle/input/twitter-entity-sentiment-analysis/twitter_validation.csv\", header=None, names=[\"id\",\"entity\",\"sentiment\",\"tweet\"])"
   ]
  },
  {
   "cell_type": "code",
   "execution_count": 3,
   "id": "a9500184",
   "metadata": {
    "execution": {
     "iopub.execute_input": "2024-03-12T09:22:16.986198Z",
     "iopub.status.busy": "2024-03-12T09:22:16.985521Z",
     "iopub.status.idle": "2024-03-12T09:22:17.002285Z",
     "shell.execute_reply": "2024-03-12T09:22:17.000913Z"
    },
    "papermill": {
     "duration": 0.02738,
     "end_time": "2024-03-12T09:22:17.004790",
     "exception": false,
     "start_time": "2024-03-12T09:22:16.977410",
     "status": "completed"
    },
    "tags": []
   },
   "outputs": [
    {
     "data": {
      "text/html": [
       "<div>\n",
       "<style scoped>\n",
       "    .dataframe tbody tr th:only-of-type {\n",
       "        vertical-align: middle;\n",
       "    }\n",
       "\n",
       "    .dataframe tbody tr th {\n",
       "        vertical-align: top;\n",
       "    }\n",
       "\n",
       "    .dataframe thead th {\n",
       "        text-align: right;\n",
       "    }\n",
       "</style>\n",
       "<table border=\"1\" class=\"dataframe\">\n",
       "  <thead>\n",
       "    <tr style=\"text-align: right;\">\n",
       "      <th></th>\n",
       "      <th>id</th>\n",
       "      <th>entity</th>\n",
       "      <th>sentiment</th>\n",
       "      <th>tweet</th>\n",
       "    </tr>\n",
       "  </thead>\n",
       "  <tbody>\n",
       "    <tr>\n",
       "      <th>0</th>\n",
       "      <td>2401</td>\n",
       "      <td>Borderlands</td>\n",
       "      <td>Positive</td>\n",
       "      <td>im getting on borderlands and i will murder yo...</td>\n",
       "    </tr>\n",
       "    <tr>\n",
       "      <th>1</th>\n",
       "      <td>2401</td>\n",
       "      <td>Borderlands</td>\n",
       "      <td>Positive</td>\n",
       "      <td>I am coming to the borders and I will kill you...</td>\n",
       "    </tr>\n",
       "    <tr>\n",
       "      <th>2</th>\n",
       "      <td>2401</td>\n",
       "      <td>Borderlands</td>\n",
       "      <td>Positive</td>\n",
       "      <td>im getting on borderlands and i will kill you ...</td>\n",
       "    </tr>\n",
       "    <tr>\n",
       "      <th>3</th>\n",
       "      <td>2401</td>\n",
       "      <td>Borderlands</td>\n",
       "      <td>Positive</td>\n",
       "      <td>im coming on borderlands and i will murder you...</td>\n",
       "    </tr>\n",
       "    <tr>\n",
       "      <th>4</th>\n",
       "      <td>2401</td>\n",
       "      <td>Borderlands</td>\n",
       "      <td>Positive</td>\n",
       "      <td>im getting on borderlands 2 and i will murder ...</td>\n",
       "    </tr>\n",
       "  </tbody>\n",
       "</table>\n",
       "</div>"
      ],
      "text/plain": [
       "     id       entity sentiment  \\\n",
       "0  2401  Borderlands  Positive   \n",
       "1  2401  Borderlands  Positive   \n",
       "2  2401  Borderlands  Positive   \n",
       "3  2401  Borderlands  Positive   \n",
       "4  2401  Borderlands  Positive   \n",
       "\n",
       "                                               tweet  \n",
       "0  im getting on borderlands and i will murder yo...  \n",
       "1  I am coming to the borders and I will kill you...  \n",
       "2  im getting on borderlands and i will kill you ...  \n",
       "3  im coming on borderlands and i will murder you...  \n",
       "4  im getting on borderlands 2 and i will murder ...  "
      ]
     },
     "execution_count": 3,
     "metadata": {},
     "output_type": "execute_result"
    }
   ],
   "source": [
    "train.head()"
   ]
  },
  {
   "cell_type": "code",
   "execution_count": 4,
   "id": "43f3132d",
   "metadata": {
    "execution": {
     "iopub.execute_input": "2024-03-12T09:22:17.020450Z",
     "iopub.status.busy": "2024-03-12T09:22:17.020055Z",
     "iopub.status.idle": "2024-03-12T09:22:17.030339Z",
     "shell.execute_reply": "2024-03-12T09:22:17.029414Z"
    },
    "papermill": {
     "duration": 0.020736,
     "end_time": "2024-03-12T09:22:17.032692",
     "exception": false,
     "start_time": "2024-03-12T09:22:17.011956",
     "status": "completed"
    },
    "tags": []
   },
   "outputs": [
    {
     "data": {
      "text/html": [
       "<div>\n",
       "<style scoped>\n",
       "    .dataframe tbody tr th:only-of-type {\n",
       "        vertical-align: middle;\n",
       "    }\n",
       "\n",
       "    .dataframe tbody tr th {\n",
       "        vertical-align: top;\n",
       "    }\n",
       "\n",
       "    .dataframe thead th {\n",
       "        text-align: right;\n",
       "    }\n",
       "</style>\n",
       "<table border=\"1\" class=\"dataframe\">\n",
       "  <thead>\n",
       "    <tr style=\"text-align: right;\">\n",
       "      <th></th>\n",
       "      <th>id</th>\n",
       "      <th>entity</th>\n",
       "      <th>sentiment</th>\n",
       "      <th>tweet</th>\n",
       "    </tr>\n",
       "  </thead>\n",
       "  <tbody>\n",
       "    <tr>\n",
       "      <th>0</th>\n",
       "      <td>3364</td>\n",
       "      <td>Facebook</td>\n",
       "      <td>Irrelevant</td>\n",
       "      <td>I mentioned on Facebook that I was struggling ...</td>\n",
       "    </tr>\n",
       "    <tr>\n",
       "      <th>1</th>\n",
       "      <td>352</td>\n",
       "      <td>Amazon</td>\n",
       "      <td>Neutral</td>\n",
       "      <td>BBC News - Amazon boss Jeff Bezos rejects clai...</td>\n",
       "    </tr>\n",
       "    <tr>\n",
       "      <th>2</th>\n",
       "      <td>8312</td>\n",
       "      <td>Microsoft</td>\n",
       "      <td>Negative</td>\n",
       "      <td>@Microsoft Why do I pay for WORD when it funct...</td>\n",
       "    </tr>\n",
       "    <tr>\n",
       "      <th>3</th>\n",
       "      <td>4371</td>\n",
       "      <td>CS-GO</td>\n",
       "      <td>Negative</td>\n",
       "      <td>CSGO matchmaking is so full of closet hacking,...</td>\n",
       "    </tr>\n",
       "    <tr>\n",
       "      <th>4</th>\n",
       "      <td>4433</td>\n",
       "      <td>Google</td>\n",
       "      <td>Neutral</td>\n",
       "      <td>Now the President is slapping Americans in the...</td>\n",
       "    </tr>\n",
       "  </tbody>\n",
       "</table>\n",
       "</div>"
      ],
      "text/plain": [
       "     id     entity   sentiment  \\\n",
       "0  3364   Facebook  Irrelevant   \n",
       "1   352     Amazon     Neutral   \n",
       "2  8312  Microsoft    Negative   \n",
       "3  4371      CS-GO    Negative   \n",
       "4  4433     Google     Neutral   \n",
       "\n",
       "                                               tweet  \n",
       "0  I mentioned on Facebook that I was struggling ...  \n",
       "1  BBC News - Amazon boss Jeff Bezos rejects clai...  \n",
       "2  @Microsoft Why do I pay for WORD when it funct...  \n",
       "3  CSGO matchmaking is so full of closet hacking,...  \n",
       "4  Now the President is slapping Americans in the...  "
      ]
     },
     "execution_count": 4,
     "metadata": {},
     "output_type": "execute_result"
    }
   ],
   "source": [
    "test.head()"
   ]
  },
  {
   "cell_type": "markdown",
   "id": "773c8df1",
   "metadata": {
    "papermill": {
     "duration": 0.00672,
     "end_time": "2024-03-12T09:22:17.046820",
     "exception": false,
     "start_time": "2024-03-12T09:22:17.040100",
     "status": "completed"
    },
    "tags": []
   },
   "source": [
    "# Exploratory Data Analysis"
   ]
  },
  {
   "cell_type": "code",
   "execution_count": 5,
   "id": "4e749974",
   "metadata": {
    "execution": {
     "iopub.execute_input": "2024-03-12T09:22:17.063539Z",
     "iopub.status.busy": "2024-03-12T09:22:17.062966Z",
     "iopub.status.idle": "2024-03-12T09:22:17.085465Z",
     "shell.execute_reply": "2024-03-12T09:22:17.084811Z"
    },
    "papermill": {
     "duration": 0.032361,
     "end_time": "2024-03-12T09:22:17.087145",
     "exception": false,
     "start_time": "2024-03-12T09:22:17.054784",
     "status": "completed"
    },
    "tags": []
   },
   "outputs": [
    {
     "data": {
      "text/html": [
       "<div>\n",
       "<style scoped>\n",
       "    .dataframe tbody tr th:only-of-type {\n",
       "        vertical-align: middle;\n",
       "    }\n",
       "\n",
       "    .dataframe tbody tr th {\n",
       "        vertical-align: top;\n",
       "    }\n",
       "\n",
       "    .dataframe thead th {\n",
       "        text-align: right;\n",
       "    }\n",
       "</style>\n",
       "<table border=\"1\" class=\"dataframe\">\n",
       "  <thead>\n",
       "    <tr style=\"text-align: right;\">\n",
       "      <th></th>\n",
       "      <th>id</th>\n",
       "    </tr>\n",
       "  </thead>\n",
       "  <tbody>\n",
       "    <tr>\n",
       "      <th>count</th>\n",
       "      <td>74682.000000</td>\n",
       "    </tr>\n",
       "    <tr>\n",
       "      <th>mean</th>\n",
       "      <td>6432.586165</td>\n",
       "    </tr>\n",
       "    <tr>\n",
       "      <th>std</th>\n",
       "      <td>3740.427870</td>\n",
       "    </tr>\n",
       "    <tr>\n",
       "      <th>min</th>\n",
       "      <td>1.000000</td>\n",
       "    </tr>\n",
       "    <tr>\n",
       "      <th>25%</th>\n",
       "      <td>3195.000000</td>\n",
       "    </tr>\n",
       "    <tr>\n",
       "      <th>50%</th>\n",
       "      <td>6422.000000</td>\n",
       "    </tr>\n",
       "    <tr>\n",
       "      <th>75%</th>\n",
       "      <td>9601.000000</td>\n",
       "    </tr>\n",
       "    <tr>\n",
       "      <th>max</th>\n",
       "      <td>13200.000000</td>\n",
       "    </tr>\n",
       "  </tbody>\n",
       "</table>\n",
       "</div>"
      ],
      "text/plain": [
       "                 id\n",
       "count  74682.000000\n",
       "mean    6432.586165\n",
       "std     3740.427870\n",
       "min        1.000000\n",
       "25%     3195.000000\n",
       "50%     6422.000000\n",
       "75%     9601.000000\n",
       "max    13200.000000"
      ]
     },
     "execution_count": 5,
     "metadata": {},
     "output_type": "execute_result"
    }
   ],
   "source": [
    "train.describe()"
   ]
  },
  {
   "cell_type": "code",
   "execution_count": 6,
   "id": "352a3ddb",
   "metadata": {
    "execution": {
     "iopub.execute_input": "2024-03-12T09:22:17.103615Z",
     "iopub.status.busy": "2024-03-12T09:22:17.102889Z",
     "iopub.status.idle": "2024-03-12T09:22:17.114406Z",
     "shell.execute_reply": "2024-03-12T09:22:17.113438Z"
    },
    "papermill": {
     "duration": 0.022033,
     "end_time": "2024-03-12T09:22:17.116453",
     "exception": false,
     "start_time": "2024-03-12T09:22:17.094420",
     "status": "completed"
    },
    "tags": []
   },
   "outputs": [
    {
     "data": {
      "text/html": [
       "<div>\n",
       "<style scoped>\n",
       "    .dataframe tbody tr th:only-of-type {\n",
       "        vertical-align: middle;\n",
       "    }\n",
       "\n",
       "    .dataframe tbody tr th {\n",
       "        vertical-align: top;\n",
       "    }\n",
       "\n",
       "    .dataframe thead th {\n",
       "        text-align: right;\n",
       "    }\n",
       "</style>\n",
       "<table border=\"1\" class=\"dataframe\">\n",
       "  <thead>\n",
       "    <tr style=\"text-align: right;\">\n",
       "      <th></th>\n",
       "      <th>id</th>\n",
       "    </tr>\n",
       "  </thead>\n",
       "  <tbody>\n",
       "    <tr>\n",
       "      <th>count</th>\n",
       "      <td>1000.000000</td>\n",
       "    </tr>\n",
       "    <tr>\n",
       "      <th>mean</th>\n",
       "      <td>6432.088000</td>\n",
       "    </tr>\n",
       "    <tr>\n",
       "      <th>std</th>\n",
       "      <td>3728.310569</td>\n",
       "    </tr>\n",
       "    <tr>\n",
       "      <th>min</th>\n",
       "      <td>6.000000</td>\n",
       "    </tr>\n",
       "    <tr>\n",
       "      <th>25%</th>\n",
       "      <td>3247.750000</td>\n",
       "    </tr>\n",
       "    <tr>\n",
       "      <th>50%</th>\n",
       "      <td>6550.000000</td>\n",
       "    </tr>\n",
       "    <tr>\n",
       "      <th>75%</th>\n",
       "      <td>9661.750000</td>\n",
       "    </tr>\n",
       "    <tr>\n",
       "      <th>max</th>\n",
       "      <td>13197.000000</td>\n",
       "    </tr>\n",
       "  </tbody>\n",
       "</table>\n",
       "</div>"
      ],
      "text/plain": [
       "                 id\n",
       "count   1000.000000\n",
       "mean    6432.088000\n",
       "std     3728.310569\n",
       "min        6.000000\n",
       "25%     3247.750000\n",
       "50%     6550.000000\n",
       "75%     9661.750000\n",
       "max    13197.000000"
      ]
     },
     "execution_count": 6,
     "metadata": {},
     "output_type": "execute_result"
    }
   ],
   "source": [
    "test.describe()"
   ]
  },
  {
   "cell_type": "code",
   "execution_count": 7,
   "id": "70ff082a",
   "metadata": {
    "execution": {
     "iopub.execute_input": "2024-03-12T09:22:17.133655Z",
     "iopub.status.busy": "2024-03-12T09:22:17.133118Z",
     "iopub.status.idle": "2024-03-12T09:22:17.356433Z",
     "shell.execute_reply": "2024-03-12T09:22:17.355741Z"
    },
    "papermill": {
     "duration": 0.234431,
     "end_time": "2024-03-12T09:22:17.358528",
     "exception": false,
     "start_time": "2024-03-12T09:22:17.124097",
     "status": "completed"
    },
    "tags": []
   },
   "outputs": [
    {
     "data": {
      "image/png": "[encoded data removed]",
      "text/plain": [
       "<Figure size 640x480 with 1 Axes>"
      ]
     },
     "metadata": {},
     "output_type": "display_data"
    }
   ],
   "source": [
    "ax = sns.countplot(x='sentiment', data=train, palette='muted')\n",
    "ax.bar_label(ax.containers[0], label_type='edge')\n",
    "plt.show()"
   ]
  },
  {
   "cell_type": "code",
   "execution_count": 8,
   "id": "86b40c8c",
   "metadata": {
    "execution": {
     "iopub.execute_input": "2024-03-12T09:22:17.376231Z",
     "iopub.status.busy": "2024-03-12T09:22:17.375727Z",
     "iopub.status.idle": "2024-03-12T09:22:17.405358Z",
     "shell.execute_reply": "2024-03-12T09:22:17.403601Z"
    },
    "papermill": {
     "duration": 0.041249,
     "end_time": "2024-03-12T09:22:17.407763",
     "exception": false,
     "start_time": "2024-03-12T09:22:17.366514",
     "status": "completed"
    },
    "tags": []
   },
   "outputs": [
    {
     "name": "stdout",
     "output_type": "stream",
     "text": [
      "<class 'pandas.core.frame.DataFrame'>\n",
      "RangeIndex: 74682 entries, 0 to 74681\n",
      "Data columns (total 4 columns):\n",
      " #   Column     Non-Null Count  Dtype \n",
      "---  ------     --------------  ----- \n",
      " 0   id         74682 non-null  int64 \n",
      " 1   entity     74682 non-null  object\n",
      " 2   sentiment  74682 non-null  object\n",
      " 3   tweet      73996 non-null  object\n",
      "dtypes: int64(1), object(3)\n",
      "memory usage: 2.3+ MB\n"
     ]
    }
   ],
   "source": [
    "train.info()"
   ]
  },
  {
   "cell_type": "markdown",
   "id": "48ca2645",
   "metadata": {
    "papermill": {
     "duration": 0.007721,
     "end_time": "2024-03-12T09:22:17.423670",
     "exception": false,
     "start_time": "2024-03-12T09:22:17.415949",
     "status": "completed"
    },
    "tags": []
   },
   "source": [
    "# Data Cleaning and Data Preparation"
   ]
  },
  {
   "cell_type": "markdown",
   "id": "6a0d83a4",
   "metadata": {
    "papermill": {
     "duration": 0.007293,
     "end_time": "2024-03-12T09:22:17.438822",
     "exception": false,
     "start_time": "2024-03-12T09:22:17.431529",
     "status": "completed"
    },
    "tags": []
   },
   "source": [
    "Converting the object datatpye to strings and category. Changing the datatypes was necesarry for the regex operation."
   ]
  },
  {
   "cell_type": "code",
   "execution_count": 9,
   "id": "52bb3da0",
   "metadata": {
    "execution": {
     "iopub.execute_input": "2024-03-12T09:22:17.456200Z",
     "iopub.status.busy": "2024-03-12T09:22:17.455830Z",
     "iopub.status.idle": "2024-03-12T09:22:17.496800Z",
     "shell.execute_reply": "2024-03-12T09:22:17.495642Z"
    },
    "papermill": {
     "duration": 0.052434,
     "end_time": "2024-03-12T09:22:17.499405",
     "exception": false,
     "start_time": "2024-03-12T09:22:17.446971",
     "status": "completed"
    },
    "tags": []
   },
   "outputs": [],
   "source": [
    "train[\"entity\"] = train[\"entity\"].apply(str)\n",
    "train[\"sentiment\"] = train[\"sentiment\"].astype(\"category\")\n",
    "train[\"tweet\"] = train[\"tweet\"].apply(str)\n",
    "\n",
    "test[\"entity\"] = test[\"entity\"].apply(str)\n",
    "test[\"sentiment\"] = test[\"sentiment\"].astype(\"category\")\n",
    "test[\"tweet\"] = test[\"tweet\"].apply(str)"
   ]
  },
  {
   "cell_type": "code",
   "execution_count": 10,
   "id": "8335dd89",
   "metadata": {
    "execution": {
     "iopub.execute_input": "2024-03-12T09:22:17.518117Z",
     "iopub.status.busy": "2024-03-12T09:22:17.517747Z",
     "iopub.status.idle": "2024-03-12T09:22:17.523688Z",
     "shell.execute_reply": "2024-03-12T09:22:17.522424Z"
    },
    "papermill": {
     "duration": 0.017224,
     "end_time": "2024-03-12T09:22:17.525427",
     "exception": false,
     "start_time": "2024-03-12T09:22:17.508203",
     "status": "completed"
    },
    "tags": []
   },
   "outputs": [],
   "source": [
    "def cleaning_tweets(tweet):\n",
    "    #Removing all the @ mentions from the tweets\n",
    "    tweet = re.sub(r\"@[A-Za-z0-9]+\",\"\", tweet)\n",
    "    \n",
    "    #Removing the links from the tweets\n",
    "    tweet = re.sub(r\"https?://[A-Za-z0-9./]+\",\"\", tweet)\n",
    "    \n",
    "    #Removing unnecesarry characters like emojis from the tweets\n",
    "    tweet = re.sub(r\"[^ A-Za-z0-9.!?']\",\"\", tweet)\n",
    "    \n",
    "    #Removing any extra whitespaces\n",
    "    tweet = re.sub(r\" +\",\" \", tweet)\n",
    "    \n",
    "    return tweet"
   ]
  },
  {
   "cell_type": "code",
   "execution_count": 11,
   "id": "bce36ae2",
   "metadata": {
    "execution": {
     "iopub.execute_input": "2024-03-12T09:22:17.542592Z",
     "iopub.status.busy": "2024-03-12T09:22:17.542220Z",
     "iopub.status.idle": "2024-03-12T09:22:18.267133Z",
     "shell.execute_reply": "2024-03-12T09:22:18.265872Z"
    },
    "papermill": {
     "duration": 0.736005,
     "end_time": "2024-03-12T09:22:18.269467",
     "exception": false,
     "start_time": "2024-03-12T09:22:17.533462",
     "status": "completed"
    },
    "tags": []
   },
   "outputs": [],
   "source": [
    "clean_tweets = [cleaning_tweets(tweet) for tweet in train['tweet']]\n",
    "train['clean_tweets'] = clean_tweets\n",
    "\n",
    "clean_tweets = [cleaning_tweets(tweet) for tweet in test['tweet']]\n",
    "test['clean_tweets'] = clean_tweets"
   ]
  },
  {
   "cell_type": "markdown",
   "id": "d9051730",
   "metadata": {
    "papermill": {
     "duration": 0.007755,
     "end_time": "2024-03-12T09:22:18.285364",
     "exception": false,
     "start_time": "2024-03-12T09:22:18.277609",
     "status": "completed"
    },
    "tags": []
   },
   "source": [
    "Removing the extra columns and only keeping the sentiment and tweets in the dataframe"
   ]
  },
  {
   "cell_type": "code",
   "execution_count": 12,
   "id": "46a1c475",
   "metadata": {
    "execution": {
     "iopub.execute_input": "2024-03-12T09:22:18.302806Z",
     "iopub.status.busy": "2024-03-12T09:22:18.302458Z",
     "iopub.status.idle": "2024-03-12T09:22:18.315060Z",
     "shell.execute_reply": "2024-03-12T09:22:18.313802Z"
    },
    "papermill": {
     "duration": 0.024098,
     "end_time": "2024-03-12T09:22:18.317395",
     "exception": false,
     "start_time": "2024-03-12T09:22:18.293297",
     "status": "completed"
    },
    "tags": []
   },
   "outputs": [],
   "source": [
    "cols = ['tweet','id','entity']\n",
    "train.drop(cols, axis = 1, inplace = True)\n",
    "test.drop(cols, axis = 1, inplace = True)"
   ]
  },
  {
   "cell_type": "markdown",
   "id": "b40dfcdf",
   "metadata": {
    "papermill": {
     "duration": 0.007315,
     "end_time": "2024-03-12T09:22:18.332813",
     "exception": false,
     "start_time": "2024-03-12T09:22:18.325498",
     "status": "completed"
    },
    "tags": []
   },
   "source": [
    "Handling the cetgorical column \"sentiment\" by using Label Encoding."
   ]
  },
  {
   "cell_type": "code",
   "execution_count": 13,
   "id": "2321c5e4",
   "metadata": {
    "execution": {
     "iopub.execute_input": "2024-03-12T09:22:18.350636Z",
     "iopub.status.busy": "2024-03-12T09:22:18.350042Z",
     "iopub.status.idle": "2024-03-12T09:22:18.371026Z",
     "shell.execute_reply": "2024-03-12T09:22:18.370171Z"
    },
    "papermill": {
     "duration": 0.033056,
     "end_time": "2024-03-12T09:22:18.373562",
     "exception": false,
     "start_time": "2024-03-12T09:22:18.340506",
     "status": "completed"
    },
    "tags": []
   },
   "outputs": [],
   "source": [
    "label_encoder = LabelEncoder() \n",
    "label_encoder.fit(train[\"sentiment\"])\n",
    "\n",
    "train[\"sentiment\"]= label_encoder.transform(train[\"sentiment\"])\n",
    "test[\"sentiment\"]= label_encoder.transform(test[\"sentiment\"])"
   ]
  },
  {
   "cell_type": "code",
   "execution_count": 14,
   "id": "a44b25d3",
   "metadata": {
    "execution": {
     "iopub.execute_input": "2024-03-12T09:22:18.390809Z",
     "iopub.status.busy": "2024-03-12T09:22:18.390451Z",
     "iopub.status.idle": "2024-03-12T09:22:18.399122Z",
     "shell.execute_reply": "2024-03-12T09:22:18.398202Z"
    },
    "papermill": {
     "duration": 0.019438,
     "end_time": "2024-03-12T09:22:18.401146",
     "exception": false,
     "start_time": "2024-03-12T09:22:18.381708",
     "status": "completed"
    },
    "tags": []
   },
   "outputs": [
    {
     "data": {
      "text/html": [
       "<div>\n",
       "<style scoped>\n",
       "    .dataframe tbody tr th:only-of-type {\n",
       "        vertical-align: middle;\n",
       "    }\n",
       "\n",
       "    .dataframe tbody tr th {\n",
       "        vertical-align: top;\n",
       "    }\n",
       "\n",
       "    .dataframe thead th {\n",
       "        text-align: right;\n",
       "    }\n",
       "</style>\n",
       "<table border=\"1\" class=\"dataframe\">\n",
       "  <thead>\n",
       "    <tr style=\"text-align: right;\">\n",
       "      <th></th>\n",
       "      <th>sentiment</th>\n",
       "      <th>clean_tweets</th>\n",
       "    </tr>\n",
       "  </thead>\n",
       "  <tbody>\n",
       "    <tr>\n",
       "      <th>0</th>\n",
       "      <td>3</td>\n",
       "      <td>im getting on borderlands and i will murder yo...</td>\n",
       "    </tr>\n",
       "    <tr>\n",
       "      <th>1</th>\n",
       "      <td>3</td>\n",
       "      <td>I am coming to the borders and I will kill you...</td>\n",
       "    </tr>\n",
       "    <tr>\n",
       "      <th>2</th>\n",
       "      <td>3</td>\n",
       "      <td>im getting on borderlands and i will kill you all</td>\n",
       "    </tr>\n",
       "    <tr>\n",
       "      <th>3</th>\n",
       "      <td>3</td>\n",
       "      <td>im coming on borderlands and i will murder you...</td>\n",
       "    </tr>\n",
       "    <tr>\n",
       "      <th>4</th>\n",
       "      <td>3</td>\n",
       "      <td>im getting on borderlands 2 and i will murder ...</td>\n",
       "    </tr>\n",
       "  </tbody>\n",
       "</table>\n",
       "</div>"
      ],
      "text/plain": [
       "   sentiment                                       clean_tweets\n",
       "0          3  im getting on borderlands and i will murder yo...\n",
       "1          3  I am coming to the borders and I will kill you...\n",
       "2          3  im getting on borderlands and i will kill you all\n",
       "3          3  im coming on borderlands and i will murder you...\n",
       "4          3  im getting on borderlands 2 and i will murder ..."
      ]
     },
     "execution_count": 14,
     "metadata": {},
     "output_type": "execute_result"
    }
   ],
   "source": [
    "train.head()"
   ]
  },
  {
   "cell_type": "code",
   "execution_count": 15,
   "id": "a71e5bcd",
   "metadata": {
    "execution": {
     "iopub.execute_input": "2024-03-12T09:22:18.419657Z",
     "iopub.status.busy": "2024-03-12T09:22:18.418992Z",
     "iopub.status.idle": "2024-03-12T09:22:18.428640Z",
     "shell.execute_reply": "2024-03-12T09:22:18.427493Z"
    },
    "papermill": {
     "duration": 0.021347,
     "end_time": "2024-03-12T09:22:18.431054",
     "exception": false,
     "start_time": "2024-03-12T09:22:18.409707",
     "status": "completed"
    },
    "tags": []
   },
   "outputs": [
    {
     "data": {
      "text/html": [
       "<div>\n",
       "<style scoped>\n",
       "    .dataframe tbody tr th:only-of-type {\n",
       "        vertical-align: middle;\n",
       "    }\n",
       "\n",
       "    .dataframe tbody tr th {\n",
       "        vertical-align: top;\n",
       "    }\n",
       "\n",
       "    .dataframe thead th {\n",
       "        text-align: right;\n",
       "    }\n",
       "</style>\n",
       "<table border=\"1\" class=\"dataframe\">\n",
       "  <thead>\n",
       "    <tr style=\"text-align: right;\">\n",
       "      <th></th>\n",
       "      <th>sentiment</th>\n",
       "      <th>clean_tweets</th>\n",
       "    </tr>\n",
       "  </thead>\n",
       "  <tbody>\n",
       "    <tr>\n",
       "      <th>0</th>\n",
       "      <td>0</td>\n",
       "      <td>I mentioned on Facebook that I was struggling ...</td>\n",
       "    </tr>\n",
       "    <tr>\n",
       "      <th>1</th>\n",
       "      <td>2</td>\n",
       "      <td>BBC News Amazon boss Jeff Bezos rejects claims...</td>\n",
       "    </tr>\n",
       "    <tr>\n",
       "      <th>2</th>\n",
       "      <td>1</td>\n",
       "      <td>Why do I pay for WORD when it functions so po...</td>\n",
       "    </tr>\n",
       "    <tr>\n",
       "      <th>3</th>\n",
       "      <td>1</td>\n",
       "      <td>CSGO matchmaking is so full of closet hacking ...</td>\n",
       "    </tr>\n",
       "    <tr>\n",
       "      <th>4</th>\n",
       "      <td>2</td>\n",
       "      <td>Now the President is slapping Americans in the...</td>\n",
       "    </tr>\n",
       "  </tbody>\n",
       "</table>\n",
       "</div>"
      ],
      "text/plain": [
       "   sentiment                                       clean_tweets\n",
       "0          0  I mentioned on Facebook that I was struggling ...\n",
       "1          2  BBC News Amazon boss Jeff Bezos rejects claims...\n",
       "2          1   Why do I pay for WORD when it functions so po...\n",
       "3          1  CSGO matchmaking is so full of closet hacking ...\n",
       "4          2  Now the President is slapping Americans in the..."
      ]
     },
     "execution_count": 15,
     "metadata": {},
     "output_type": "execute_result"
    }
   ],
   "source": [
    "test.head()"
   ]
  },
  {
   "cell_type": "markdown",
   "id": "19f3ca83",
   "metadata": {
    "papermill": {
     "duration": 0.008127,
     "end_time": "2024-03-12T09:22:18.447792",
     "exception": false,
     "start_time": "2024-03-12T09:22:18.439665",
     "status": "completed"
    },
    "tags": []
   },
   "source": [
    "# Tokenization"
   ]
  },
  {
   "cell_type": "markdown",
   "id": "7f316cf8",
   "metadata": {
    "papermill": {
     "duration": 0.007943,
     "end_time": "2024-03-12T09:22:18.464085",
     "exception": false,
     "start_time": "2024-03-12T09:22:18.456142",
     "status": "completed"
    },
    "tags": []
   },
   "source": [
    "Performing tokenization on train data using the SubwordTextEncoder to construct a subword vocabulary and then convert the text into numerical."
   ]
  },
  {
   "cell_type": "code",
   "execution_count": 16,
   "id": "c36db197",
   "metadata": {
    "execution": {
     "iopub.execute_input": "2024-03-12T09:22:18.482216Z",
     "iopub.status.busy": "2024-03-12T09:22:18.481822Z",
     "iopub.status.idle": "2024-03-12T09:24:01.477428Z",
     "shell.execute_reply": "2024-03-12T09:24:01.475995Z"
    },
    "papermill": {
     "duration": 103.00744,
     "end_time": "2024-03-12T09:24:01.479763",
     "exception": false,
     "start_time": "2024-03-12T09:22:18.472323",
     "status": "completed"
    },
    "tags": []
   },
   "outputs": [],
   "source": [
    "tokenizer = tfds.deprecated.text.SubwordTextEncoder.build_from_corpus(\n",
    "    train[\"clean_tweets\"], target_vocab_size=2**16\n",
    ")\n",
    "\n",
    "data_inputs = [tokenizer.encode(sentence) for sentence in train[\"clean_tweets\"]]"
   ]
  },
  {
   "cell_type": "markdown",
   "id": "63980540",
   "metadata": {
    "papermill": {
     "duration": 0.008013,
     "end_time": "2024-03-12T09:24:01.496028",
     "exception": false,
     "start_time": "2024-03-12T09:24:01.488015",
     "status": "completed"
    },
    "tags": []
   },
   "source": [
    "Padding sequences with 0 to ensure uniform length across all input sequences in training data."
   ]
  },
  {
   "cell_type": "code",
   "execution_count": 17,
   "id": "c1b75ded",
   "metadata": {
    "execution": {
     "iopub.execute_input": "2024-03-12T09:24:01.514284Z",
     "iopub.status.busy": "2024-03-12T09:24:01.513928Z",
     "iopub.status.idle": "2024-03-12T09:24:01.769133Z",
     "shell.execute_reply": "2024-03-12T09:24:01.767715Z"
    },
    "papermill": {
     "duration": 0.267247,
     "end_time": "2024-03-12T09:24:01.771507",
     "exception": false,
     "start_time": "2024-03-12T09:24:01.504260",
     "status": "completed"
    },
    "tags": []
   },
   "outputs": [],
   "source": [
    "max_len = max(len(sentence) for sentence in data_inputs)\n",
    "\n",
    "data_inputs = tf.keras.preprocessing.sequence.pad_sequences(\n",
    "    data_inputs, value=0, padding=\"post\",maxlen=max_len\n",
    ")"
   ]
  },
  {
   "cell_type": "markdown",
   "id": "cc159c11",
   "metadata": {
    "papermill": {
     "duration": 0.008277,
     "end_time": "2024-03-12T09:24:01.788008",
     "exception": false,
     "start_time": "2024-03-12T09:24:01.779731",
     "status": "completed"
    },
    "tags": []
   },
   "source": [
    "Performing the same tokenization and padding for test data."
   ]
  },
  {
   "cell_type": "code",
   "execution_count": 18,
   "id": "51abf28b",
   "metadata": {
    "execution": {
     "iopub.execute_input": "2024-03-12T09:24:01.805457Z",
     "iopub.status.busy": "2024-03-12T09:24:01.805062Z",
     "iopub.status.idle": "2024-03-12T09:24:01.884238Z",
     "shell.execute_reply": "2024-03-12T09:24:01.883344Z"
    },
    "papermill": {
     "duration": 0.090654,
     "end_time": "2024-03-12T09:24:01.886551",
     "exception": false,
     "start_time": "2024-03-12T09:24:01.795897",
     "status": "completed"
    },
    "tags": []
   },
   "outputs": [],
   "source": [
    "test_inputs = [tokenizer.encode(sentence) for sentence in test[\"clean_tweets\"]]\n",
    "\n",
    "# Pad sequences in the test data\n",
    "test_inputs = tf.keras.preprocessing.sequence.pad_sequences(\n",
    "    test_inputs, value=0, padding=\"post\", maxlen=max_len\n",
    ")"
   ]
  },
  {
   "cell_type": "markdown",
   "id": "50668ea3",
   "metadata": {
    "papermill": {
     "duration": 0.00789,
     "end_time": "2024-03-12T09:24:01.902653",
     "exception": false,
     "start_time": "2024-03-12T09:24:01.894763",
     "status": "completed"
    },
    "tags": []
   },
   "source": [
    "# Model Development"
   ]
  },
  {
   "cell_type": "markdown",
   "id": "0cc2229a",
   "metadata": {
    "papermill": {
     "duration": 0.007716,
     "end_time": "2024-03-12T09:24:01.918429",
     "exception": false,
     "start_time": "2024-03-12T09:24:01.910713",
     "status": "completed"
    },
    "tags": []
   },
   "source": [
    "Defining Deep Convolutional Neural Network (DCNN) model using TensorFlow's Keras API. "
   ]
  },
  {
   "cell_type": "code",
   "execution_count": 19,
   "id": "f37b09de",
   "metadata": {
    "execution": {
     "iopub.execute_input": "2024-03-12T09:24:01.935971Z",
     "iopub.status.busy": "2024-03-12T09:24:01.935632Z",
     "iopub.status.idle": "2024-03-12T09:24:01.948441Z",
     "shell.execute_reply": "2024-03-12T09:24:01.947302Z"
    },
    "papermill": {
     "duration": 0.024429,
     "end_time": "2024-03-12T09:24:01.950684",
     "exception": false,
     "start_time": "2024-03-12T09:24:01.926255",
     "status": "completed"
    },
    "tags": []
   },
   "outputs": [],
   "source": [
    "class DCNN(tf.keras.Model):\n",
    "    \n",
    "    #Initializer method\n",
    "    def __init__(self,\n",
    "                 vocab_size,       #vocab_size: The size of the vocabulary.\n",
    "                 emb_dim=128,      #emb_dim: The dimensionality of the embedding space.\n",
    "                 nb_filters=50,    #nb_filters: The number of filters in the convolutional layers.\n",
    "                 FFN_units=512,    #FFN_units: The number of units in the feedforward neural network layer.\n",
    "                 nb_classes=4,     #nb_classes: The number of output classes.\n",
    "                 dropout_rate=0.3, #The dropout rate for regularization.\n",
    "                 training=False,   #training: A boolean indicating whether the model is in training mode or not.\n",
    "                 name=\"dcnn\"):     #name: The name of the model.\n",
    "        super(DCNN, self).__init__(name=name)\n",
    "        \n",
    "        self.embedding = layers.Embedding(vocab_size, emb_dim) #Embedding layer: To learn the embeddings for input tokens.\n",
    "        \n",
    "        #Convolutional layers (bigram, trigram, quadgram): To capture different n-gram features/filters in the input.\n",
    "        self.bigram = layers.Conv1D(filters=nb_filters,\n",
    "                                    kernel_size = 2,\n",
    "                                    padding=\"same\",\n",
    "                                    activation=\"relu\")\n",
    "        \n",
    "        #GlobalMaxPool1D layers: To pool the maximum value across the temporal dimension after convolution.\n",
    "        self.pool_1 = layers.GlobalMaxPool1D()\n",
    "        \n",
    "        self.trigram = layers.Conv1D(filters=nb_filters,\n",
    "                                    kernel_size = 3,\n",
    "                                    padding=\"same\",\n",
    "                                    activation=\"relu\")\n",
    "        self.pool_2 = layers.GlobalMaxPool1D()\n",
    "        \n",
    "        self.quadgram = layers.Conv1D(filters=nb_filters,\n",
    "                                    kernel_size = 4,\n",
    "                                    padding=\"same\",\n",
    "                                    activation=\"relu\")\n",
    "        self.pool_3 = layers.GlobalMaxPool1D()\n",
    "        \n",
    "        #Dense layers: Fully connected layers for further processing.\n",
    "        self.dense_1 = layers.Dense(units = FFN_units, activation=\"relu\")\n",
    "        \n",
    "        #Dropout layer: For regularization by randomly dropping units during training.\n",
    "        self.dropout = layers.Dropout(rate=dropout_rate)\n",
    "        \n",
    "        #Last Dense Layer: For output\n",
    "        self.last_dense = layers.Dense(units = nb_classes, activation=\"softmax\")\n",
    "        \n",
    "    #This method defines the forward pass of the model.\n",
    "    def call(self, inputs, training):\n",
    "\n",
    "        #The embeddings are first extracted from the input tokens using the Embedding layer.\n",
    "        x = self.embedding(inputs)\n",
    "        \n",
    "        #The embedded sequences are then passed through convolutional layers (bigram, trigram, quadgram) \n",
    "        #followed by max-pooling layers (pool_1, pool_2, pool_3).\n",
    "        x_1 = self.bigram(x)\n",
    "        x_1 = self.pool_1(x_1)\n",
    "        x_2 = self.trigram(x)\n",
    "        x_2 = self.pool_2(x_2)\n",
    "        x_3 = self.quadgram(x)\n",
    "        x_3 = self.pool_3(x_3)\n",
    "\n",
    "        #The outputs from these layers are concatenated along the feature axis (axis=-1).\n",
    "        merged = tf.concat([x_1,x_2,x_3], axis=-1)\n",
    "        \n",
    "        #The concatenated features are passed through a dense layer (dense_1) followed by a dropout layer (dropout) for regularization.\n",
    "\n",
    "        merged = self.dense_1(merged)\n",
    "        merged = self.dropout(merged,training = training)\n",
    "        \n",
    "        #Finally, the output is passed through a dense layer (last_dense) with softmax activation to produce the final classification probabilities.\n",
    "        output = self.last_dense(merged)\n",
    "        \n",
    "        return output"
   ]
  },
  {
   "cell_type": "markdown",
   "id": "d7d7f476",
   "metadata": {
    "papermill": {
     "duration": 0.008253,
     "end_time": "2024-03-12T09:24:01.967334",
     "exception": false,
     "start_time": "2024-03-12T09:24:01.959081",
     "status": "completed"
    },
    "tags": []
   },
   "source": [
    "# Model Training"
   ]
  },
  {
   "cell_type": "code",
   "execution_count": 20,
   "id": "5800c359",
   "metadata": {
    "execution": {
     "iopub.execute_input": "2024-03-12T09:24:01.985835Z",
     "iopub.status.busy": "2024-03-12T09:24:01.985488Z",
     "iopub.status.idle": "2024-03-12T09:24:02.030163Z",
     "shell.execute_reply": "2024-03-12T09:24:02.028911Z"
    },
    "papermill": {
     "duration": 0.056717,
     "end_time": "2024-03-12T09:24:02.032563",
     "exception": false,
     "start_time": "2024-03-12T09:24:01.975846",
     "status": "completed"
    },
    "tags": []
   },
   "outputs": [],
   "source": [
    "dcnn = DCNN(vocab_size = tokenizer.vocab_size)"
   ]
  },
  {
   "cell_type": "code",
   "execution_count": 21,
   "id": "6beca9b3",
   "metadata": {
    "execution": {
     "iopub.execute_input": "2024-03-12T09:24:02.050591Z",
     "iopub.status.busy": "2024-03-12T09:24:02.049998Z",
     "iopub.status.idle": "2024-03-12T09:24:02.068831Z",
     "shell.execute_reply": "2024-03-12T09:24:02.067879Z"
    },
    "papermill": {
     "duration": 0.030337,
     "end_time": "2024-03-12T09:24:02.071132",
     "exception": false,
     "start_time": "2024-03-12T09:24:02.040795",
     "status": "completed"
    },
    "tags": []
   },
   "outputs": [],
   "source": [
    "dcnn.compile(loss=\"sparse_categorical_crossentropy\", optimizer=\"Adam\",metrics=[\"sparse_categorical_accuracy\"])"
   ]
  },
  {
   "cell_type": "code",
   "execution_count": 22,
   "id": "a459050d",
   "metadata": {
    "execution": {
     "iopub.execute_input": "2024-03-12T09:24:02.090881Z",
     "iopub.status.busy": "2024-03-12T09:24:02.090487Z",
     "iopub.status.idle": "2024-03-12T09:37:09.638917Z",
     "shell.execute_reply": "2024-03-12T09:37:09.637866Z"
    },
    "papermill": {
     "duration": 787.561248,
     "end_time": "2024-03-12T09:37:09.640872",
     "exception": false,
     "start_time": "2024-03-12T09:24:02.079624",
     "status": "completed"
    },
    "tags": []
   },
   "outputs": [
    {
     "name": "stdout",
     "output_type": "stream",
     "text": [
      "Epoch 1/10\n",
      "\u001b[1m584/584\u001b[0m \u001b[32m━━━━━━━━━━━━━━━━━━━━\u001b[0m\u001b[37m\u001b[0m \u001b[1m66s\u001b[0m 110ms/step - loss: 1.0332 - sparse_categorical_accuracy: 0.5481\n",
      "Epoch 2/10\n",
      "\u001b[1m584/584\u001b[0m \u001b[32m━━━━━━━━━━━━━━━━━━━━\u001b[0m\u001b[37m\u001b[0m \u001b[1m82s\u001b[0m 110ms/step - loss: 0.1492 - sparse_categorical_accuracy: 0.9473\n",
      "Epoch 3/10\n",
      "\u001b[1m584/584\u001b[0m \u001b[32m━━━━━━━━━━━━━━━━━━━━\u001b[0m\u001b[37m\u001b[0m \u001b[1m82s\u001b[0m 110ms/step - loss: 0.0773 - sparse_categorical_accuracy: 0.9682\n",
      "Epoch 4/10\n",
      "\u001b[1m584/584\u001b[0m \u001b[32m━━━━━━━━━━━━━━━━━━━━\u001b[0m\u001b[37m\u001b[0m \u001b[1m81s\u001b[0m 108ms/step - loss: 0.0602 - sparse_categorical_accuracy: 0.9719\n",
      "Epoch 5/10\n",
      "\u001b[1m584/584\u001b[0m \u001b[32m━━━━━━━━━━━━━━━━━━━━\u001b[0m\u001b[37m\u001b[0m \u001b[1m84s\u001b[0m 111ms/step - loss: 0.0553 - sparse_categorical_accuracy: 0.9736\n",
      "Epoch 6/10\n",
      "\u001b[1m584/584\u001b[0m \u001b[32m━━━━━━━━━━━━━━━━━━━━\u001b[0m\u001b[37m\u001b[0m \u001b[1m81s\u001b[0m 109ms/step - loss: 0.0552 - sparse_categorical_accuracy: 0.9733\n",
      "Epoch 7/10\n",
      "\u001b[1m584/584\u001b[0m \u001b[32m━━━━━━━━━━━━━━━━━━━━\u001b[0m\u001b[37m\u001b[0m \u001b[1m83s\u001b[0m 112ms/step - loss: 0.0546 - sparse_categorical_accuracy: 0.9739\n",
      "Epoch 8/10\n",
      "\u001b[1m584/584\u001b[0m \u001b[32m━━━━━━━━━━━━━━━━━━━━\u001b[0m\u001b[37m\u001b[0m \u001b[1m65s\u001b[0m 111ms/step - loss: 0.0593 - sparse_categorical_accuracy: 0.9721\n",
      "Epoch 9/10\n",
      "\u001b[1m584/584\u001b[0m \u001b[32m━━━━━━━━━━━━━━━━━━━━\u001b[0m\u001b[37m\u001b[0m \u001b[1m81s\u001b[0m 110ms/step - loss: 0.0770 - sparse_categorical_accuracy: 0.9662\n",
      "Epoch 10/10\n",
      "\u001b[1m584/584\u001b[0m \u001b[32m━━━━━━━━━━━━━━━━━━━━\u001b[0m\u001b[37m\u001b[0m \u001b[1m83s\u001b[0m 111ms/step - loss: 0.0589 - sparse_categorical_accuracy: 0.9719\n"
     ]
    },
    {
     "data": {
      "text/plain": [
       "<keras.src.callbacks.history.History at 0x787588e73130>"
      ]
     },
     "execution_count": 22,
     "metadata": {},
     "output_type": "execute_result"
    }
   ],
   "source": [
    "dcnn.fit(data_inputs, train['sentiment'], batch_size=128, epochs=10)"
   ]
  },
  {
   "cell_type": "markdown",
   "id": "db87c9a2",
   "metadata": {
    "papermill": {
     "duration": 0.4095,
     "end_time": "2024-03-12T09:37:10.407093",
     "exception": false,
     "start_time": "2024-03-12T09:37:09.997593",
     "status": "completed"
    },
    "tags": []
   },
   "source": [
    "# Model Evaluation"
   ]
  },
  {
   "cell_type": "code",
   "execution_count": 23,
   "id": "807b0b21",
   "metadata": {
    "execution": {
     "iopub.execute_input": "2024-03-12T09:37:11.126394Z",
     "iopub.status.busy": "2024-03-12T09:37:11.125574Z",
     "iopub.status.idle": "2024-03-12T09:37:11.622272Z",
     "shell.execute_reply": "2024-03-12T09:37:11.620698Z"
    },
    "papermill": {
     "duration": 0.858515,
     "end_time": "2024-03-12T09:37:11.624788",
     "exception": false,
     "start_time": "2024-03-12T09:37:10.766273",
     "status": "completed"
    },
    "tags": []
   },
   "outputs": [
    {
     "name": "stdout",
     "output_type": "stream",
     "text": [
      "\u001b[1m8/8\u001b[0m \u001b[32m━━━━━━━━━━━━━━━━━━━━\u001b[0m\u001b[37m\u001b[0m \u001b[1m0s\u001b[0m 22ms/step - loss: 0.3153 - sparse_categorical_accuracy: 0.9412\n",
      "Test Loss: 0.33958059549331665\n",
      "Test Accuracy: 0.9419999718666077\n"
     ]
    }
   ],
   "source": [
    "# Evaluate the model on the test data\n",
    "loss, accuracy = dcnn.evaluate(test_inputs, test['sentiment'], batch_size=128)\n",
    "\n",
    "# Print the evaluation metrics\n",
    "print(\"Test Loss:\", loss)\n",
    "print(\"Test Accuracy:\", accuracy)"
   ]
  }
 ],
 "metadata": {
  "kaggle": {
   "accelerator": "none",
   "dataSources": [
    {
     "datasetId": 1520310,
     "sourceId": 2510329,
     "sourceType": "datasetVersion"
    }
   ],
   "dockerImageVersionId": 30664,
   "isGpuEnabled": false,
   "isInternetEnabled": true,
   "language": "python",
   "sourceType": "notebook"
  },
  "kernelspec": {
   "display_name": "Python 3",
   "language": "python",
   "name": "python3"
  },
  "language_info": {
   "codemirror_mode": {
    "name": "ipython",
    "version": 3
   },
   "file_extension": ".py",
   "mimetype": "text/x-python",
   "name": "python",
   "nbconvert_exporter": "python",
   "pygments_lexer": "ipython3",
   "version": "3.10.13"
  },
  "papermill": {
   "default_parameters": {},
   "duration": 917.259453,
   "end_time": "2024-03-12T09:37:13.810895",
   "environment_variables": {},
   "exception": null,
   "input_path": "__notebook__.ipynb",
   "output_path": "__notebook__.ipynb",
   "parameters": {},
   "start_time": "2024-03-12T09:21:56.551442",
   "version": "2.5.0"
  }
 },
 "nbformat": 4,
 "nbformat_minor": 5
}
